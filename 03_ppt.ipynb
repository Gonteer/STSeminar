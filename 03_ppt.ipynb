{
 "cells": [
  {
   "cell_type": "code",
   "execution_count": 1,
   "metadata": {},
   "outputs": [],
   "source": [
    "# 01. 작업 파일 불러오기\n",
    "import pandas as pd\t\t\t\t\t\t# pandas 모듈 불러오기\n",
    "from pptx import Presentation\t\t\t# Presentation 모듈 불러오기\n",
    "\n",
    "df = pd.read_excel(\"행사참석자명단.xlsx\")\t# 참석자 명단 불러와 df에 저장\n",
    "prs = Presentation(\"명찰양식.pptx\")\t\t\t# 명찰 양식 불러와 prs 객체 생성"
   ]
  },
  {
   "cell_type": "code",
   "execution_count": 11,
   "metadata": {},
   "outputs": [],
   "source": [
    "# 02. 사용자 함수 정의\n",
    "import copy\n",
    "#ppt 슬라이드 복사를 위한 함수  --> 슬라이드 복사를 위한 기능 없어 따로 구현\n",
    "\n",
    "def duplicate_slide(prs, org_slide):\n",
    "    # add_slide() 메소드를 이용해 새로운 슬라이드 생성한 후 개체를 복사해 옴\n",
    "    copied_slide = prs.slides.add_slide(org_slide.slide_layout)\n",
    "    for shape in org_slide.shapes:\n",
    "        org_elment = shape.element\n",
    "        new_element = copy.deepcopy(org_elment)\n",
    "        copied_slide.shapes._spTree.insert_element_before(new_element, \"p:extLst\")\n",
    "    \n",
    "    for value in org_slide.part.rels.values():\n",
    "        if \"notesSlide\" not in value.reltype:\n",
    "            copied_slide.part.rels.get_or_add(\n",
    "                value.reltype,\n",
    "                value._target\n",
    "            )\n",
    "    return copied_slide"
   ]
  },
  {
   "cell_type": "code",
   "execution_count": 12,
   "metadata": {},
   "outputs": [],
   "source": [
    "# 03. 명찰 제작하기\n",
    "from pptx.util import Pt\t\t\t# 폰트 크기 조정을 위해 로드\n",
    "nametag_count = 0\n",
    "for person_count in range(len(df)): # 참석자 수(32명)만큼 반복문 실행\n",
    "    # 슬라이드 1장 당 4개의 명찰이 있으므로\n",
    "    # 현재 반복문이 실행되고 있는 person_count를 4로 나누고\n",
    "    # 남은 값이 0일 때(=4의 배수일 때) 슬라이드를 복사하고 데이터를 입력함\n",
    "    if person_count % 4 == 0:\n",
    "        new_slide = duplicate_slide(prs, prs.slides[0]) # 첫 번째 슬라이드를 복사하여 추가\n",
    "\n",
    "        for shape in new_slide.shapes: \t\t\t\t\t# 슬라이드에 있는 개체를 체크하여 데이터 입력\n",
    "            # 명찰 입력이 완료된 개수(nametag_count)가\n",
    "            # 명단 데이터 개수(len(df))보다 적을 때만 실행\n",
    "            if nametag_count < len(df):\n",
    "                if shape.shape_type == 17 and shape.text == \"소속\":\n",
    "                    shape.text_frame.paragraphs[0].text = df.iloc[nametag_count, 1]\n",
    "                    shape.text_frame.paragraphs[0].font.size = Pt(24)\n",
    "                    shape.text_frame.paragraphs[0].font.bold = True\n",
    "                    shape.text_frame.paragraphs[0].font.name = \"맑은 고딕\"\n",
    "                elif shape.shape_type == 17 and shape.text == \"이름\":\n",
    "                    shape.text_frame.paragraphs[0].text = df.iloc[nametag_count, 0]\n",
    "                    shape.text_frame.paragraphs[0].font.size = Pt(60)\n",
    "                    shape.text_frame.paragraphs[0].font.bold = True\n",
    "                    shape.text_frame.paragraphs[0].font.name = \"맑은 고딕\"\n",
    "                    # 이름 입력까지 완료되면 입력 완료된 개수(nametag_count) 업데이트\n",
    "                    nametag_count += 1\n",
    "\n",
    "prs.save(\"result.pptx\") #새로운 파일로 저장"
   ]
  }
 ],
 "metadata": {
  "kernelspec": {
   "display_name": "Python 3",
   "language": "python",
   "name": "python3"
  },
  "language_info": {
   "codemirror_mode": {
    "name": "ipython",
    "version": 3
   },
   "file_extension": ".py",
   "mimetype": "text/x-python",
   "name": "python",
   "nbconvert_exporter": "python",
   "pygments_lexer": "ipython3",
   "version": "3.12.2"
  }
 },
 "nbformat": 4,
 "nbformat_minor": 2
}
