{
 "cells": [
  {
   "cell_type": "markdown",
   "metadata": {},
   "source": [
    "1.엑셀 파일과 시트 다루기"
   ]
  },
  {
   "cell_type": "code",
   "execution_count": 53,
   "metadata": {},
   "outputs": [],
   "source": [
    "#새로운 액셀파일 만들기 및 데이터 추가\n",
    "from openpyxl import Workbook\n",
    "\n",
    "wb = Workbook()                         #새 워크시트 생성(가상의 새 파일 생성)\n",
    "ws = wb.active                          #새 시트 기본 활성화 탭 선택('Sheet')\n",
    "ws.title = \"시트1\"                      #새 시트 탭 이름 설정\n",
    "ws.append(['이름','나이','성별'])          #새 시트 탭에 데이터 추가\n",
    "ws.append(['김구',65,'남자'])\n",
    "ws.append(['유관순',18,'여자'])\n",
    "\n",
    "wb.save(filename='테스트.xlsx')         #해당 내용 저장"
   ]
  },
  {
   "cell_type": "code",
   "execution_count": 54,
   "metadata": {},
   "outputs": [],
   "source": [
    "#엑셀파일 불러와 저장하기\n",
    "from openpyxl import load_workbook\n",
    "\n",
    "wb = load_workbook(filename='테스트.xlsx')  #파일 불러오기\n",
    "\n",
    "ws = wb.active\n",
    "ws.append(['리노이에 간요',55,'남자'])\n",
    "\n",
    "wb.save(filename='테스트.xlsx')"
   ]
  },
  {
   "cell_type": "code",
   "execution_count": 30,
   "metadata": {},
   "outputs": [
    {
     "name": "stdout",
     "output_type": "stream",
     "text": [
      "['Sheet', '시트 2', '시트 3', '시트 4']\n"
     ]
    }
   ],
   "source": [
    "#새로운 시트 추가\n",
    "from openpyxl import Workbook\n",
    "\n",
    "wb = Workbook()\n",
    "wb.create_sheet('시트 2')   #새 시트 생성\n",
    "wb.create_sheet('시트 3')\n",
    "wb.create_sheet('시트 4')\n",
    "\n",
    "print(wb.sheetnames)"
   ]
  },
  {
   "cell_type": "code",
   "execution_count": 31,
   "metadata": {},
   "outputs": [],
   "source": [
    "#새로운 시트 추가 후 선택하고 내용 추가\n",
    "ws = wb['시트 2']                           #'시트 2' 선택\n",
    "ws.append(['첫 번째로 추가된 시트 입니다.'])   \n",
    "\n",
    "wb['시트 3'].append(['세 번째 시트에 내용을 추가합니다.'])  #시트('시트 3')를 직접 선택해서 추가\n",
    "\n",
    "wb.save(filename='샘플_시트추가.xlsx')"
   ]
  },
  {
   "cell_type": "code",
   "execution_count": 24,
   "metadata": {},
   "outputs": [
    {
     "name": "stdout",
     "output_type": "stream",
     "text": [
      "['시트1', '시트1 Copy']\n"
     ]
    }
   ],
   "source": [
    "#시트 복사하기 part.1\n",
    "from openpyxl import Workbook\n",
    "\n",
    "wb = load_workbook(filename='테스트.xlsx')\n",
    "wb.copy_worksheet(wb['시트1'])    #'시트1' 복사해서 wb 객체에 저장\n",
    "print(wb.sheetnames)"
   ]
  },
  {
   "cell_type": "code",
   "execution_count": null,
   "metadata": {},
   "outputs": [],
   "source": [
    "#시트 복사하기 part.2\n",
    "wb.active = wb['시트1 Copy']\n",
    "\n",
    "wb.save(filename='테스트_시트복사.xlsx')"
   ]
  },
  {
   "cell_type": "code",
   "execution_count": 25,
   "metadata": {},
   "outputs": [
    {
     "name": "stdout",
     "output_type": "stream",
     "text": [
      "['시트1', '시트1 Copy']\n"
     ]
    }
   ],
   "source": [
    "#시트 이름 바꾸기 part.1\n",
    "from openpyxl import Workbook\n",
    "\n",
    "wb = load_workbook(filename='테스트_시트복사.xlsx')\n",
    "print(wb.sheetnames)\n"
   ]
  },
  {
   "cell_type": "code",
   "execution_count": 26,
   "metadata": {},
   "outputs": [
    {
     "name": "stdout",
     "output_type": "stream",
     "text": [
      "['시트1', '시트1 복사']\n"
     ]
    }
   ],
   "source": [
    "#시트 이름 바꾸기 part.2\n",
    "wb['시트1 Copy'].title = '시트1 복사'\n",
    "print(wb.sheetnames)\n",
    "wb.save(filename='테스트_시트복사.xlsx')"
   ]
  },
  {
   "cell_type": "code",
   "execution_count": 27,
   "metadata": {},
   "outputs": [
    {
     "name": "stdout",
     "output_type": "stream",
     "text": [
      "['시트1', '시트1 복사']\n"
     ]
    }
   ],
   "source": [
    "#시트 순서 변경하기 part.1\n",
    "from openpyxl import Workbook\n",
    "\n",
    "wb = load_workbook(filename='테스트_시트복사.xlsx')\n",
    "print(wb.sheetnames)"
   ]
  },
  {
   "cell_type": "code",
   "execution_count": 28,
   "metadata": {},
   "outputs": [
    {
     "name": "stdout",
     "output_type": "stream",
     "text": [
      "['시트1 복사', '시트1']\n"
     ]
    }
   ],
   "source": [
    "#시트 순서 변경하기 part.2\n",
    "wb.move_sheet(wb['시트1 복사'],-1)\n",
    "print(wb.sheetnames)\n",
    "wb.save(filename='테스트_시트복사.xlsx')"
   ]
  },
  {
   "cell_type": "code",
   "execution_count": 32,
   "metadata": {},
   "outputs": [
    {
     "name": "stdout",
     "output_type": "stream",
     "text": [
      "['Sheet', '시트 2', '시트 3', '시트 4']\n"
     ]
    }
   ],
   "source": [
    "#시트 삭제하기 part.1\n",
    "from openpyxl import Workbook\n",
    "\n",
    "wb = load_workbook(filename='샘플_시트추가.xlsx')\n",
    "print(wb.sheetnames)"
   ]
  },
  {
   "cell_type": "code",
   "execution_count": 33,
   "metadata": {},
   "outputs": [
    {
     "name": "stdout",
     "output_type": "stream",
     "text": [
      "['Sheet', '시트 2', '시트 3']\n"
     ]
    }
   ],
   "source": [
    "#시트 삭제하기 part.2\n",
    "wb.remove(wb['시트 4'])\n",
    "print(wb.sheetnames)\n",
    "wb.save(filename='샘플_시트추가.xlsx')"
   ]
  },
  {
   "cell_type": "markdown",
   "metadata": {},
   "source": [
    "2. 셀 내용 다루기"
   ]
  },
  {
   "cell_type": "code",
   "execution_count": 46,
   "metadata": {},
   "outputs": [
    {
     "name": "stdout",
     "output_type": "stream",
     "text": [
      "이름\n",
      "이름\n"
     ]
    }
   ],
   "source": [
    "#셀 내용 확인하기\n",
    "from openpyxl import Workbook\n",
    "wb = load_workbook(filename='테스트.xlsx')\n",
    "ws = wb['시트1']\n",
    "\n",
    "print(ws['A1'].value)   #[A1] 셀의 값을 출력\n",
    "print(ws[1][0].value)   #1행 0열의 값 출력  -행은 1부터, 열을 0부터"
   ]
  },
  {
   "cell_type": "code",
   "execution_count": 49,
   "metadata": {},
   "outputs": [],
   "source": [
    "#셀 내용 수정하기(위에서 파일 불러온 내용을 이어서 진행)\n",
    "\n",
    "ws['A1'] = '존함'\n",
    "wb.save(filename='테스트_셀내용변경.xlsx')"
   ]
  },
  {
   "cell_type": "code",
   "execution_count": 47,
   "metadata": {},
   "outputs": [
    {
     "name": "stdout",
     "output_type": "stream",
     "text": [
      "(<Cell '시트1'.A1>, <Cell '시트1'.B1>, <Cell '시트1'.C1>)\n",
      "(<Cell '시트1'.A2>, <Cell '시트1'.B2>, <Cell '시트1'.C2>)\n",
      "(<Cell '시트1'.A3>, <Cell '시트1'.B3>, <Cell '시트1'.C3>)\n",
      "(<Cell '시트1'.A4>, <Cell '시트1'.B4>, <Cell '시트1'.C4>)\n"
     ]
    }
   ],
   "source": [
    "#반목문 이용 셀 정보에 접근 1(위에서 파일 불러온 내용을 이어서 진행)\n",
    "\n",
    "for row in ws : \n",
    "    print(row)  #행의 속성을 출력함"
   ]
  },
  {
   "cell_type": "code",
   "execution_count": 55,
   "metadata": {},
   "outputs": [
    {
     "name": "stdout",
     "output_type": "stream",
     "text": [
      "<Cell '시트1'.A1> 이름\n",
      "<Cell '시트1'.B1> 나이\n",
      "<Cell '시트1'.C1> 성별\n",
      "<Cell '시트1'.A2> 김구\n",
      "<Cell '시트1'.B2> 65\n",
      "<Cell '시트1'.C2> 남자\n",
      "<Cell '시트1'.A3> 유관순\n",
      "<Cell '시트1'.B3> 18\n",
      "<Cell '시트1'.C3> 여자\n",
      "<Cell '시트1'.A4> 리노이에 간요\n",
      "<Cell '시트1'.B4> 55\n",
      "<Cell '시트1'.C4> 남자\n"
     ]
    }
   ],
   "source": [
    "#반목문 이용 셀 정보에 접근 2(위에서 파일 불러온 내용을 이어서 진행)\n",
    "\n",
    "for row in ws:\n",
    "    for cell in row: \n",
    "        print(cell,cell.value)  #셀의 속성와 값을 출력"
   ]
  },
  {
   "cell_type": "code",
   "execution_count": 56,
   "metadata": {},
   "outputs": [],
   "source": [
    "#셀 내용 추가하기\n",
    "\n",
    "from openpyxl import Workbook\n",
    "wb = load_workbook(filename='테스트.xlsx')\n",
    "ws = wb['시트1']\n",
    "\n",
    "ws['A5'] = '김마리아'\n",
    "ws['B5'] = 53\n",
    "ws['C5'] = '여자'\n",
    "\n",
    "ws.append(['안창호',67,'남자'])\n",
    "\n",
    "newDataList = [['강우규',70,'남자'],['최재형',45,'남자'],['남자현',51,'여자']]\n",
    "\n",
    "for newData in newDataList :\n",
    "    ws.append(newData)\n",
    "\n",
    "wb.save(filename='테스트_셀내용입력.xlsx')"
   ]
  },
  {
   "cell_type": "code",
   "execution_count": 59,
   "metadata": {},
   "outputs": [],
   "source": [
    "#셀 내용 삭제하기\n",
    "\n",
    "from openpyxl import Workbook\n",
    "wb = load_workbook(filename='테스트_셀내용입력.xlsx')\n",
    "\n",
    "ws = wb['시트1']\n",
    "\n",
    "ws.delete_rows(idx=4)               #4번째 행 전체 삭제\n",
    "ws.delete_cols(idx=2,amount=2)      #2,3번째 열 전체 삭제\n",
    "\n",
    "wb.save(filename='테스트_셀내용삭제.xlsx')"
   ]
  },
  {
   "cell_type": "markdown",
   "metadata": {},
   "source": [
    "#셀 내용 이동하기(생략)\n",
    "#셀 병합 및 해제하기(생략)"
   ]
  },
  {
   "cell_type": "code",
   "execution_count": 62,
   "metadata": {},
   "outputs": [],
   "source": [
    "#셀 내용 엑샐 함수로 삽입\n",
    "from openpyxl import Workbook\n",
    "wb = load_workbook(filename='테스트_셀내용입력.xlsx')\n",
    "\n",
    "ws = wb['시트1']\n",
    "\n",
    "ws.delete_rows(idx=4)               #4번째 행 전체 삭제\n",
    "\n",
    "ws['A9']  = '평균 나이'\n",
    "ws['B9']  = '=average(B2:B8)'\n",
    "\n",
    "wb.save(filename='테스트_셀내용연산.xlsx')"
   ]
  },
  {
   "cell_type": "code",
   "execution_count": null,
   "metadata": {},
   "outputs": [],
   "source": [
    "3. 셀 서식 다루기"
   ]
  },
  {
   "cell_type": "code",
   "execution_count": 63,
   "metadata": {},
   "outputs": [],
   "source": [
    "from openpyxl import Workbook\n",
    "from openpyxl.styles import Font, PatternFill       #폰트, 배경 설정 클래스 불러옴\n",
    "\n",
    "wb = load_workbook(filename='테스트_셀내용입력.xlsx')\n",
    "ws = wb['시트1']\n",
    "\n",
    "ws.delete_rows(idx=4)               #4번째 행 전체 삭제\n",
    "\n",
    "fillStyle = PatternFill(fill_type='solid', start_color='000000')   #셀 배경 설정\n",
    "fontStyte = Font(color='FFFFFF',sz=12,bold=True)                   #폰트 설정\n",
    "\n",
    "#하나만\n",
    "# ws['A1'].fill = fillStyle\n",
    "# ws['A1'].font = fontStyte\n",
    "\n",
    "for row in ws :\n",
    "    for cell in row :\n",
    "        if cell.row == 1:\n",
    "            cell.fill = fillStyle\n",
    "            cell.font = fontStyte\n",
    "\n",
    "wb.save(filename='테스트_셀배경서식변경.xlsx')"
   ]
  },
  {
   "cell_type": "markdown",
   "metadata": {},
   "source": [
    "# 셀 높이 및 너비조정\n",
    "# 텍스트 정렬\n",
    "위의 내용 생략"
   ]
  },
  {
   "cell_type": "code",
   "execution_count": 64,
   "metadata": {},
   "outputs": [],
   "source": [
    "#셀 테두리 서식 변경\n",
    "\n",
    "from openpyxl import Workbook\n",
    "from openpyxl.styles import Side,Border       #테두리 설정 클래스 불러옴\n",
    "\n",
    "wb = load_workbook(filename='테스트_셀배경서식변경.xlsx')\n",
    "ws = wb['시트1']\n",
    "\n",
    "sideStyle = Side(style='medium',color='000000')\n",
    "\n",
    "borderStyle = Border(\n",
    "    left=sideStyle,\n",
    "    right=sideStyle,\n",
    "    top=sideStyle,\n",
    "    bottom=sideStyle )\n",
    "\n",
    "for row in ws:\n",
    "    for cell in row:\n",
    "        cell.border = borderStyle\n",
    "\n",
    "wb.save(filename='테스트_셀배경테두리변경.xlsx')"
   ]
  }
 ],
 "metadata": {
  "kernelspec": {
   "display_name": "Python 3",
   "language": "python",
   "name": "python3"
  },
  "language_info": {
   "codemirror_mode": {
    "name": "ipython",
    "version": 3
   },
   "file_extension": ".py",
   "mimetype": "text/x-python",
   "name": "python",
   "nbconvert_exporter": "python",
   "pygments_lexer": "ipython3",
   "version": "3.12.2"
  }
 },
 "nbformat": 4,
 "nbformat_minor": 2
}
